{
 "cells": [
  {
   "cell_type": "markdown",
   "id": "962bc9a3",
   "metadata": {},
   "source": [
    "# Challenge 1: Square Numbers and Return Their Sum:"
   ]
  },
  {
   "cell_type": "code",
   "execution_count": 3,
   "id": "c5b45b6a",
   "metadata": {},
   "outputs": [
    {
     "name": "stdout",
     "output_type": "stream",
     "text": [
      "Square Number is: 35\n"
     ]
    }
   ],
   "source": [
    "class Point:\n",
    "\n",
    "    def __init__(self,x,y,z):\n",
    "        self.x = x\n",
    "        self.y = y\n",
    "        self.z = z\n",
    "\n",
    "    def sqSum(self):\n",
    "        return self.x**2+self.y**2+self.z**2\n",
    "    \n",
    "p = Point(1,3,5)\n",
    "result = p.sqSum()\n",
    "print(\"Square Number is:\",result)"
   ]
  },
  {
   "cell_type": "markdown",
   "id": "043d66c6",
   "metadata": {},
   "source": [
    "# Challenge 2: Implement a Calculator Class:"
   ]
  },
  {
   "cell_type": "code",
   "execution_count": 4,
   "id": "9c38cc43",
   "metadata": {},
   "outputs": [
    {
     "name": "stdout",
     "output_type": "stream",
     "text": [
      "Addition Number is: 104\n",
      "Substraction Number is: 84\n",
      "Multiplication Number is: 940\n",
      "Division Number is: 9.4\n"
     ]
    }
   ],
   "source": [
    "class Calculator:\n",
    "\n",
    "    def __init__(self,x,y):\n",
    "        self.x = x\n",
    "        self.y = y\n",
    "    def add(self):\n",
    "        return self.x+self.y\n",
    "    def sub(self):\n",
    "        return self.y-self.x\n",
    "    def mul(self):\n",
    "        return self.x*self.y\n",
    "    def div(self):\n",
    "        return self.y/self.x\n",
    "    \n",
    "c = Calculator(10,94)\n",
    "print(\"Addition Number is:\",c.add())\n",
    "print(\"Substraction Number is:\",c.sub())\n",
    "print(\"Multiplication Number is:\",c.mul())\n",
    "print(\"Division Number is:\",c.div())"
   ]
  },
  {
   "cell_type": "markdown",
   "id": "1019364b",
   "metadata": {},
   "source": [
    "# Challenge 3: Implement the Complete Student Class:"
   ]
  },
  {
   "cell_type": "code",
   "execution_count": 5,
   "id": "515f6528",
   "metadata": {},
   "outputs": [
    {
     "name": "stdout",
     "output_type": "stream",
     "text": [
      "Your Name is: Siddhu\n",
      "Your Roll No is: 18\n"
     ]
    }
   ],
   "source": [
    "class Student:\n",
    "\n",
    "    def setName(self,Name):\n",
    "        self.__Name = Name\n",
    "    def getName(self):\n",
    "        return self.__Name\n",
    "    def setRoll_No(self,Roll_No):\n",
    "        self.__Roll_No = Roll_No\n",
    "    def getRoll_No(self):\n",
    "        return self.__Roll_No\n",
    "    \n",
    "\n",
    "x = Student()\n",
    "x.setName(\"Siddhu\")\n",
    "x.setRoll_No(\"18\")\n",
    "print(\"Your Name is:\",x.getName())\n",
    "print(\"Your Roll No is:\",x.getRoll_No())"
   ]
  },
  {
   "cell_type": "markdown",
   "id": "57f4fd1a",
   "metadata": {},
   "source": [
    "# Challenge 4: Implement a Banking Account:"
   ]
  },
  {
   "cell_type": "code",
   "execution_count": 6,
   "id": "783d8971",
   "metadata": {},
   "outputs": [
    {
     "name": "stdout",
     "output_type": "stream",
     "text": [
      "Your Account Name: Siddhu\n",
      "Your Account Balance: 5478\n",
      "Your Saving A/c Intrest: 3\n"
     ]
    }
   ],
   "source": [
    "class Account:\n",
    "    def __init__(self, title, balance):\n",
    "        self.title = title\n",
    "        self.balance = balance\n",
    "\n",
    "class SavingsAccount(Account):\n",
    "    def __init__(self, title, balance, interestRate):\n",
    "        self.interestRate = interestRate\n",
    "\n",
    "a = Account(\"Siddhu\", 5478)\n",
    "print(\"Your Account Name:\",a.title) \n",
    "print(\"Your Account Balance:\",a.balance) \n",
    "\n",
    "s = SavingsAccount(\"Siddhu\", 5478, 3)\n",
    "#print(s.title) \n",
    "#print(s.balance) \n",
    "print(\"Your Saving A/c Intrest:\",s.interestRate) \n"
   ]
  },
  {
   "cell_type": "markdown",
   "id": "865ca6f1",
   "metadata": {},
   "source": [
    "# Challenge 5: Handling a Bank Account:"
   ]
  },
  {
   "cell_type": "code",
   "execution_count": 9,
   "id": "f879d587",
   "metadata": {},
   "outputs": [
    {
     "name": "stdout",
     "output_type": "stream",
     "text": [
      "Enter a Balance: 7298\n",
      "Balance after deposit: 8498\n",
      "Balance after withdrawal: 7998\n",
      "Interest Amount: 639.84\n"
     ]
    }
   ],
   "source": [
    "class Account:\n",
    "    def __init__(self, title=None, balance=0):\n",
    "        self.title = title\n",
    "        self.balance = balance\n",
    "    \n",
    "    def withdrawal(self, amount):\n",
    "        self.balance =self.balance-amount\n",
    "        if self.balance<amount:\n",
    "            print(\"Insufficient Balance amount.\")\n",
    "\n",
    "    def deposit(self, amount):\n",
    "        self.balance = self.balance+amount\n",
    "    def getBalance(self):\n",
    "        return self.balance\n",
    "\n",
    "class SavingsAccount(Account):\n",
    "    def __init__(self, title=None, balance=0, interestRate=0):\n",
    "            super().__init__(title, balance)\n",
    "            self.interestRate = interestRate\n",
    "    \n",
    "    def interestAmount(self):\n",
    "        return (self.balance * self.interestRate) / 100\n",
    "\n",
    "\n",
    "x = SavingsAccount(\"Siddhu\", 7298, 8)   \n",
    "print(\"Enter a Balance:\",x.getBalance())\n",
    "x.deposit(1200)\n",
    "print(\"Balance after deposit:\",x.getBalance())\n",
    "x.withdrawal(500)\n",
    "print(\"Balance after withdrawal:\",x.getBalance())\n",
    "print(\"Interest Amount:\", x.interestAmount())\n"
   ]
  },
  {
   "cell_type": "code",
   "execution_count": null,
   "id": "58f4c899",
   "metadata": {},
   "outputs": [],
   "source": []
  }
 ],
 "metadata": {
  "kernelspec": {
   "display_name": "Python 3 (ipykernel)",
   "language": "python",
   "name": "python3"
  },
  "language_info": {
   "codemirror_mode": {
    "name": "ipython",
    "version": 3
   },
   "file_extension": ".py",
   "mimetype": "text/x-python",
   "name": "python",
   "nbconvert_exporter": "python",
   "pygments_lexer": "ipython3",
   "version": "3.9.13"
  }
 },
 "nbformat": 4,
 "nbformat_minor": 5
}
